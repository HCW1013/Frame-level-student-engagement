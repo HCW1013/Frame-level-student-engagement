{
  "nbformat": 4,
  "nbformat_minor": 0,
  "metadata": {
    "colab": {
      "provenance": []
    },
    "kernelspec": {
      "name": "python3",
      "display_name": "Python 3"
    },
    "language_info": {
      "name": "python"
    }
  },
  "cells": [
    {
      "cell_type": "markdown",
      "source": [
        "[![Open in Colab](https://colab.research.google.com/assets/colab-badge.svg)](https://colab.research.google.com/drive/1tvzdmCtz5z4bJmGVkA2aFHP8i3UcIEjI#scrollTo=fqE2-WCQVRgh)"
      ],
      "metadata": {
        "id": "fqE2-WCQVRgh"
      }
    },
    {
      "cell_type": "code",
      "source": [
        "from tensorflow.keras.models import Sequential\n",
        "from tensorflow.keras.layers import Conv1D, Dropout, MaxPooling1D, Flatten, Dense\n",
        "import pandas as pd\n",
        "from DataFormatter import DataFormatter\n",
        "from tensorflow.keras.models import Model\n",
        "import matplotlib.pyplot as plt\n",
        "from Tab_CNN import CNNModel\n",
        "import numpy as np\n",
        "from sklearn.metrics import plot_confusion_matrix\n",
        "from sklearn.metrics import confusion_matrix"
      ],
      "metadata": {
        "id": "-xpczeO-VQUb"
      },
      "execution_count": 36,
      "outputs": []
    },
    {
      "cell_type": "code",
      "execution_count": null,
      "metadata": {
        "id": "oJigNawgrD3q"
      },
      "outputs": [],
      "source": [
        "class CNNModel:\n",
        "    def __init__(self, num_classe,inp_shape):\n",
        "        self.num_classes = num_classes\n",
        "        self.input_shape = inp_shape\n",
        "        self.model = self.build_model()\n",
        "\n",
        "    def build_model(self):\n",
        "        model = Sequential()\n",
        "        model.add(Conv1D(filters=64, kernel_size=3, activation='relu', input_shape=self.input_shape))\n",
        "        model.add(Conv1D(filters=64, kernel_size=3, activation='relu'))\n",
        "        model.add(Dropout(0.5))\n",
        "        model.add(MaxPooling1D(pool_size=2))\n",
        "        model.add(Flatten())\n",
        "        model.add(Dense(100, activation='relu'))\n",
        "        model.add(Dense(units=self.num_classes, activation='softmax'))\n",
        "        model.compile(loss='categorical_crossentropy', optimizer='adam', metrics=['accuracy'])\n",
        "        return model\n",
        "\n",
        "    def train(self, x_train, y_train, batch_size, epochs):\n",
        "        history = self.model.fit(x_train, y_train, batch_size=batch_size, epochs=epochs, verbose=1)\n",
        "        return history\n",
        "\n",
        "    def evaluate(self, x_test, y_test):\n",
        "        return self.model.evaluate(x_test, y_test)\n",
        "\n",
        "    def predict(self, x):\n",
        "        return self.model.predict(x)\n",
        "\n",
        "\n",
        "#replace the path according to the path to the dataset\n",
        "df = pd.read_csv(\"Data/WACV_train_data.csv\")\n",
        "df= df.loc[:,\"gaze_0_x\":]\n",
        "train_split, val_split = 0.7, 0.15\n",
        "\n",
        "formatter = DataFormatter(train_split, val_split)\n",
        "x_train, x_val, x_test, y_train, y_val, y_test = formatter.dataframeFormat(df)\n",
        "# Instantiate the CNNModel class\n",
        "num_classes = 3\n",
        "inp_shape = x_train.shape[1:]\n",
        "cnn_model = CNNModel(num_classes, inp_shape)\n",
        "\n",
        "# Train the model\n",
        "batch_size = 32\n",
        "epochs = 1\n",
        "history = cnn_model.train(x_train, y_train, batch_size, epochs)\n",
        "\n",
        "# Evaluate the model\n",
        "accuracy = cnn_model.evaluate(x_test, y_test)\n",
        "print(\"Test accuracy:\", accuracy)\n",
        "\n",
        "model= cnn_model.model\n",
        "# make a reference to model's input layer\n",
        "inp = model.input\n",
        "\n",
        "# make a new softmax layer with num_classes neurons\n",
        "new_classification_layer = Dense(4, activation='softmax')\n",
        "\n",
        "# connect our new layer to the second to last layer in model, and make a reference to it\n",
        "out = new_classification_layer(model.layers[-2].output)\n",
        "\n",
        "# create a new network between inp and out\n",
        "model_new = Model(inp, out)\n",
        "\n",
        "# make all layers untrainable by freezing weights (except for last layer)\n",
        "for l, layer in enumerate(model_new.layers[:-1]):\n",
        "    layer.trainable = False\n",
        "\n",
        "# ensure the last layer is trainable/not frozen\n",
        "for l, layer in enumerate(model_new.layers[-1:]):\n",
        "    layer.trainable = True\n",
        "\n",
        "model_new.compile(loss='categorical_crossentropy',\n",
        "              optimizer='adam',\n",
        "              metrics=['accuracy'])\n",
        "\n",
        "dfD = pd.read_csv(\"Data/DAiSEE_TL_data.csv\")\n",
        "dfD= dfD.loc[:,\"gaze_0_x\":]\n",
        "xD_train, xD_val, xD_test, yD_train, yD_val, yD_test = formatter.dataframeFormat(dfD)\n",
        "\n",
        "history2 = model_new.fit(xD_train, yD_train, \n",
        "                         batch_size=128, \n",
        "                         epochs=epochs, \n",
        "                         validation_data=(xD_val, yD_val))\n",
        "\n",
        "#comparing both model's loss and accuracy\n",
        "fig = plt.figure(figsize=(16,4))\n",
        "ax = fig.add_subplot(121)\n",
        "ax.plot(history.history[\"loss\"], label=\"WACV val loss\")\n",
        "ax.plot(history2.history[\"loss\"], label=\"DAiSEE val loss\")\n",
        "# ax.set_title(\"validation loss\")\n",
        "ax.legend(loc=\"upper left\")\n",
        "ax.set_xlabel(\"epochs\")\n",
        "ax.set_ylabel(\"validation loss\")\n",
        "\n",
        "ax2 = fig.add_subplot(122)\n",
        "ax2.plot(history.history[\"accuracy\"], label=\"WACV val accuracy\")\n",
        "ax2.plot(history2.history[\"accuracy\"],label=\"DAiSEE val accuracy\")\n",
        "# ax2.set_title(\"validation accuracy\")\n",
        "ax2.legend(loc=\"lower right\")\n",
        "ax2.set_xlabel(\"epochs\")\n",
        "ax2.set_ylabel(\"validation accuracy\")\n",
        "ax2.set_ylim(0, 1)\n",
        "plt.savefig(\"Results/TF_los_acc_OF.pdf\")\n",
        "plt.show()"
      ]
    },
    {
      "cell_type": "code",
      "source": [
        "#Save the model\n",
        "# serialize model to YAML\n",
        "model_yaml = model_new.to_json()\n",
        "with open(\"Model/model_OF.yaml\", \"w\") as yaml_file:\n",
        "    yaml_file.write(model_yaml)\n",
        "# serialize weights to HDF5\n",
        "model_new.save_weights(\"Model/model_OF.h5\")\n",
        "print(\"Saved model to disk\")"
      ],
      "metadata": {
        "id": "VdEeaPGYZXwM"
      },
      "execution_count": null,
      "outputs": []
    },
    {
      "cell_type": "code",
      "source": [
        "# load YAML and create model\n",
        "from tensorflow.keras.models import Sequential, model_from_json\n",
        "yaml_file = open('Model/model_OF.yaml', 'r')\n",
        "loaded_model_yaml = yaml_file.read()\n",
        "yaml_file.close()\n",
        "loaded_model = model_from_json(loaded_model_yaml)\n",
        "# load weights into new model\n",
        "loaded_model.load_weights(\"Model/model_OF.h5\")\n",
        "print(\"Loaded model from disk\")"
      ],
      "metadata": {
        "colab": {
          "base_uri": "https://localhost:8080/"
        },
        "id": "Ugrx7rh0ZgOT",
        "outputId": "127be5c5-78a9-45c1-be66-c7f8ef382fb2"
      },
      "execution_count": 50,
      "outputs": [
        {
          "output_type": "stream",
          "name": "stdout",
          "text": [
            "Loaded model from disk\n"
          ]
        }
      ]
    },
    {
      "cell_type": "code",
      "source": [
        "yD_pred = loaded_model.predict(xD_test)\n",
        "\n",
        "# Reshape predicted and true labels into binary vectors\n",
        "y_pred_binary = np.argmax(yD_pred, axis=1)\n",
        "y_true_binary = np.argmax(yD_test, axis=1)"
      ],
      "metadata": {
        "colab": {
          "base_uri": "https://localhost:8080/"
        },
        "id": "XZAd1nrIVgHf",
        "outputId": "60412245-7c3f-492b-9646-33b99eb469f2"
      },
      "execution_count": 52,
      "outputs": [
        {
          "output_type": "stream",
          "name": "stdout",
          "text": [
            "677/677 [==============================] - 5s 8ms/step\n"
          ]
        }
      ]
    },
    {
      "cell_type": "code",
      "source": [
        "import numpy as np\n",
        "import matplotlib.pyplot as plt\n",
        "from sklearn.metrics import confusion_matrix\n",
        "\n",
        "def plot_confusion_matrix(y_true, y_pred, classes, normalize=False, title=None, cmap=plt.cm.Blues):\n",
        "\n",
        "    # Compute confusion matrix\n",
        "    cm = confusion_matrix(y_true, y_pred)\n",
        "    if normalize:\n",
        "        cm = cm.astype('float') / cm.sum(axis=1)[:, np.newaxis]\n",
        "\n",
        "    fig, ax = plt.subplots()\n",
        "    im = ax.imshow(cm, interpolation='nearest', cmap=cmap)\n",
        "    ax.figure.colorbar(im, ax=ax)\n",
        "    ax.set(xticks=np.arange(cm.shape[1]),\n",
        "           yticks=np.arange(cm.shape[0]),\n",
        "           xticklabels=classes, yticklabels=classes,\n",
        "          #  title=title,\n",
        "           ylabel='True label',\n",
        "           xlabel='Predicted label')\n",
        "\n",
        "    # Rotate the tick labels and set their alignment\n",
        "    plt.setp(ax.get_xticklabels(), ha=\"right\", rotation_mode=\"anchor\")\n",
        "    # Set label sizes\n",
        "    ax.xaxis.label.set_size(12)\n",
        "    ax.yaxis.label.set_size(12)\n",
        "    # Format the values as percentages\n",
        "    if normalize:\n",
        "        fmt = '.2f'\n",
        "    else:\n",
        "        fmt = 'd'\n",
        "    thresh = cm.max() / 2.\n",
        "    for i in range(cm.shape[0]):\n",
        "        for j in range(cm.shape[1]):\n",
        "            ax.text(j, i, format(cm[i, j], fmt),\n",
        "                    ha=\"center\", va=\"center\",\n",
        "                    color=\"white\" if cm[i, j] > thresh else \"black\")\n",
        "    fig.tight_layout()\n",
        "    return ax\n",
        "\n",
        "# Compute the confusion matrix\n",
        "cm = confusion_matrix(y_true_binary, y_pred_binary)\n",
        "\n",
        "# Print the confusion matrix\n",
        "print(\"Confusion Matrix:\")\n",
        "print(cm)\n",
        "\n",
        "labels = ['0', '1', '2', '3']\n",
        "plot_confusion_matrix(y_true_binary, y_pred_binary, classes=labels, normalize=True)\n",
        "plt.savefig(\"Results/ConfusionMatD_OF.pdf\")\n",
        "plt.show()\n"
      ],
      "metadata": {
        "colab": {
          "base_uri": "https://localhost:8080/",
          "height": 578
        },
        "id": "Q5tSRH73avXr",
        "outputId": "0918232a-5cfe-4a8d-864e-aef18dd65c31"
      },
      "execution_count": 59,
      "outputs": [
        {
          "output_type": "stream",
          "name": "stdout",
          "text": [
            "Confusion Matrix:\n",
            "[[ 125 1267   86    5]\n",
            " [  81 8547  886  118]\n",
            " [  38 1809 3019  572]\n",
            " [   1  544  206 4345]]\n"
          ]
        },
        {
          "output_type": "display_data",
          "data": {
            "text/plain": [
              "<Figure size 640x480 with 2 Axes>"
            ],
            "image/png": "[encoded data removed]"
          },
          "metadata": {}
        }
      ]
    }
  ]
}